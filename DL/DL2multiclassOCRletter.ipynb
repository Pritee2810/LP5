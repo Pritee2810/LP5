{
 "cells": [
  {
   "cell_type": "code",
   "execution_count": 1,
   "id": "54a5cca6",
   "metadata": {},
   "outputs": [],
   "source": [
    "import pandas as pd\n",
    "import numpy as np\n",
    "from sklearn.preprocessing import LabelEncoder\n",
    "from sklearn.model_selection import train_test_split\n",
    "from sklearn.metrics import accuracy_score"
   ]
  },
  {
   "cell_type": "code",
   "execution_count": 2,
   "id": "f46248f6",
   "metadata": {},
   "outputs": [],
   "source": [
    "url = \"https://archive.ics.uci.edu/ml/machine-learning-databases/letter-recognition/letter-recognition.data\""
   ]
  },
  {
   "cell_type": "code",
   "execution_count": 3,
   "id": "db520189",
   "metadata": {},
   "outputs": [],
   "source": [
    "# Define column names based on dataset description\n",
    "names = ['letter', 'x-box', 'y-box', 'width', 'height', 'onpix', 'x-bar', 'y-bar', 'x2bar', 'y2bar', 'xybar', 'x2ybr', 'xy2br', 'x-ege', 'xegvy', 'y-ege', 'yegvx']"
   ]
  },
  {
   "cell_type": "code",
   "execution_count": 4,
   "id": "ab5be24a",
   "metadata": {},
   "outputs": [],
   "source": [
    "data = pd.read_csv(url,names=names)"
   ]
  },
  {
   "cell_type": "code",
   "execution_count": 5,
   "id": "963ec879",
   "metadata": {},
   "outputs": [],
   "source": [
    "#seaparte features and target\n",
    "X = data.drop('letter',axis=1)\n",
    "y= data['letter']"
   ]
  },
  {
   "cell_type": "code",
   "execution_count": 6,
   "id": "9213bbba",
   "metadata": {},
   "outputs": [],
   "source": [
    "#Encode target labels\n",
    "label_encoder = LabelEncoder()\n",
    "y_encoded = label_encoder.fit_transform(y)"
   ]
  },
  {
   "cell_type": "code",
   "execution_count": 7,
   "id": "4f334a87",
   "metadata": {},
   "outputs": [],
   "source": [
    "X_train,X_test,y_train,y_test = train_test_split(X,y_encoded,test_size=0.2,random_state=42)"
   ]
  },
  {
   "cell_type": "code",
   "execution_count": 8,
   "id": "f38324a9",
   "metadata": {},
   "outputs": [
    {
     "name": "stdout",
     "output_type": "stream",
     "text": [
      "WARNING:tensorflow:From C:\\Users\\ThinkPad\\anaconda3\\Lib\\site-packages\\keras\\src\\losses.py:2976: The name tf.losses.sparse_softmax_cross_entropy is deprecated. Please use tf.compat.v1.losses.sparse_softmax_cross_entropy instead.\n",
      "\n"
     ]
    }
   ],
   "source": [
    "from tensorflow.keras import Sequential\n",
    "from tensorflow.keras.layers import Dense"
   ]
  },
  {
   "cell_type": "code",
   "execution_count": 9,
   "id": "47b59bca",
   "metadata": {},
   "outputs": [
    {
     "name": "stdout",
     "output_type": "stream",
     "text": [
      "WARNING:tensorflow:From C:\\Users\\ThinkPad\\anaconda3\\Lib\\site-packages\\keras\\src\\backend.py:873: The name tf.get_default_graph is deprecated. Please use tf.compat.v1.get_default_graph instead.\n",
      "\n"
     ]
    }
   ],
   "source": [
    "#DEfine model\n",
    "model = Sequential([\n",
    "    # First hidden layer with 64 neurons and ReLU activation function\n",
    "    Dense(64,activation='relu',input_shape=(X_train.shape[1],)),\n",
    "    # Second hidden layer with 64 neurons and ReLU activation function\n",
    "    Dense(64,activation='relu'),\n",
    "    # Output layer with neurons equal to the number of classes (26 for letters\n",
    "    # A-Z) and softmax activation function\n",
    "    Dense(len(label_encoder.classes_), activation='softmax')\n",
    "])"
   ]
  },
  {
   "cell_type": "code",
   "execution_count": 10,
   "id": "ec7cb1c3",
   "metadata": {},
   "outputs": [
    {
     "name": "stdout",
     "output_type": "stream",
     "text": [
      "WARNING:tensorflow:From C:\\Users\\ThinkPad\\anaconda3\\Lib\\site-packages\\keras\\src\\optimizers\\__init__.py:309: The name tf.train.Optimizer is deprecated. Please use tf.compat.v1.train.Optimizer instead.\n",
      "\n"
     ]
    }
   ],
   "source": [
    "#Compile the model\n",
    "model.compile(optimizer='adam',\n",
    "              loss='sparse_categorical_crossentropy',\n",
    "              metrics=['accuracy'])\n"
   ]
  },
  {
   "cell_type": "code",
   "execution_count": 11,
   "id": "f8bd2ea2",
   "metadata": {},
   "outputs": [
    {
     "name": "stdout",
     "output_type": "stream",
     "text": [
      "Epoch 1/20\n",
      "WARNING:tensorflow:From C:\\Users\\ThinkPad\\anaconda3\\Lib\\site-packages\\keras\\src\\utils\\tf_utils.py:492: The name tf.ragged.RaggedTensorValue is deprecated. Please use tf.compat.v1.ragged.RaggedTensorValue instead.\n",
      "\n",
      "WARNING:tensorflow:From C:\\Users\\ThinkPad\\anaconda3\\Lib\\site-packages\\keras\\src\\engine\\base_layer_utils.py:384: The name tf.executing_eagerly_outside_functions is deprecated. Please use tf.compat.v1.executing_eagerly_outside_functions instead.\n",
      "\n",
      "450/450 [==============================] - 23s 20ms/step - loss: 1.9278 - accuracy: 0.4692 - val_loss: 1.2037 - val_accuracy: 0.6681\n",
      "Epoch 2/20\n",
      "450/450 [==============================] - 7s 15ms/step - loss: 1.0369 - accuracy: 0.7115 - val_loss: 0.9060 - val_accuracy: 0.7525\n",
      "Epoch 3/20\n",
      "450/450 [==============================] - 6s 13ms/step - loss: 0.8406 - accuracy: 0.7683 - val_loss: 0.7963 - val_accuracy: 0.7800\n",
      "Epoch 4/20\n",
      "450/450 [==============================] - 5s 11ms/step - loss: 0.7359 - accuracy: 0.7924 - val_loss: 0.7157 - val_accuracy: 0.7925\n",
      "Epoch 5/20\n",
      "450/450 [==============================] - 5s 12ms/step - loss: 0.6632 - accuracy: 0.8099 - val_loss: 0.6595 - val_accuracy: 0.8213\n",
      "Epoch 6/20\n",
      "450/450 [==============================] - 6s 12ms/step - loss: 0.6034 - accuracy: 0.8263 - val_loss: 0.5849 - val_accuracy: 0.8294\n",
      "Epoch 7/20\n",
      "450/450 [==============================] - 6s 14ms/step - loss: 0.5617 - accuracy: 0.8372 - val_loss: 0.5616 - val_accuracy: 0.8344\n",
      "Epoch 8/20\n",
      "450/450 [==============================] - 6s 14ms/step - loss: 0.5159 - accuracy: 0.8462 - val_loss: 0.5027 - val_accuracy: 0.8569\n",
      "Epoch 9/20\n",
      "450/450 [==============================] - 6s 12ms/step - loss: 0.4844 - accuracy: 0.8534 - val_loss: 0.4690 - val_accuracy: 0.8631\n",
      "Epoch 10/20\n",
      "450/450 [==============================] - 6s 13ms/step - loss: 0.4505 - accuracy: 0.8658 - val_loss: 0.4589 - val_accuracy: 0.8719\n",
      "Epoch 11/20\n",
      "450/450 [==============================] - 6s 13ms/step - loss: 0.4272 - accuracy: 0.8720 - val_loss: 0.4151 - val_accuracy: 0.8813\n",
      "Epoch 12/20\n",
      "450/450 [==============================] - 22s 49ms/step - loss: 0.4011 - accuracy: 0.8792 - val_loss: 0.4098 - val_accuracy: 0.8656\n",
      "Epoch 13/20\n",
      "450/450 [==============================] - 16s 36ms/step - loss: 0.3808 - accuracy: 0.8868 - val_loss: 0.4018 - val_accuracy: 0.8825\n",
      "Epoch 14/20\n",
      "450/450 [==============================] - 16s 35ms/step - loss: 0.3649 - accuracy: 0.8865 - val_loss: 0.3694 - val_accuracy: 0.8919\n",
      "Epoch 15/20\n",
      "450/450 [==============================] - 15s 34ms/step - loss: 0.3440 - accuracy: 0.8935 - val_loss: 0.3594 - val_accuracy: 0.8956\n",
      "Epoch 16/20\n",
      "450/450 [==============================] - 15s 33ms/step - loss: 0.3279 - accuracy: 0.8972 - val_loss: 0.3414 - val_accuracy: 0.8931\n",
      "Epoch 17/20\n",
      "450/450 [==============================] - 15s 33ms/step - loss: 0.3200 - accuracy: 0.8989 - val_loss: 0.3623 - val_accuracy: 0.8844\n",
      "Epoch 18/20\n",
      "450/450 [==============================] - 14s 32ms/step - loss: 0.3017 - accuracy: 0.9043 - val_loss: 0.3198 - val_accuracy: 0.9069\n",
      "Epoch 19/20\n",
      "450/450 [==============================] - 15s 32ms/step - loss: 0.2889 - accuracy: 0.9075 - val_loss: 0.2861 - val_accuracy: 0.9106\n",
      "Epoch 20/20\n",
      "450/450 [==============================] - 13s 30ms/step - loss: 0.2794 - accuracy: 0.9115 - val_loss: 0.3254 - val_accuracy: 0.9038\n"
     ]
    },
    {
     "data": {
      "text/plain": [
       "<keras.src.callbacks.History at 0x1d2cb07cd50>"
      ]
     },
     "execution_count": 11,
     "metadata": {},
     "output_type": "execute_result"
    }
   ],
   "source": [
    "#Train the model\n",
    "model.fit(X_train,y_train, epochs=20, batch_size=32, validation_split=0.1)"
   ]
  },
  {
   "cell_type": "code",
   "execution_count": 12,
   "id": "ef5ea678",
   "metadata": {},
   "outputs": [
    {
     "name": "stderr",
     "output_type": "stream",
     "text": [
      "C:\\Users\\ThinkPad\\anaconda3\\Lib\\site-packages\\keras\\src\\engine\\training.py:3103: UserWarning: You are saving your model as an HDF5 file via `model.save()`. This file format is considered legacy. We recommend using instead the native Keras format, e.g. `model.save('my_model.keras')`.\n",
      "  saving_api.save_model(\n"
     ]
    }
   ],
   "source": [
    "#save the trained model\n",
    "model.save(\"letter_recognition_model.h5\")"
   ]
  },
  {
   "cell_type": "code",
   "execution_count": 13,
   "id": "9774a5a8",
   "metadata": {},
   "outputs": [
    {
     "name": "stdout",
     "output_type": "stream",
     "text": [
      "125/125 [==============================] - 3s 21ms/step - loss: 0.3304 - accuracy: 0.8955\n",
      "Test Accuracy:  0.8955000042915344\n"
     ]
    }
   ],
   "source": [
    "#Evaluate the model\n",
    "test_loss, test_acc = model.evaluate(X_test, y_test)\n",
    "print('Test Accuracy: ',test_acc)"
   ]
  },
  {
   "cell_type": "code",
   "execution_count": 14,
   "id": "afc5497b",
   "metadata": {},
   "outputs": [],
   "source": [
    "#save the label encoder\n",
    "np.save(\"label_encoder_classes.npy\",label_encoder.classes_)"
   ]
  },
  {
   "cell_type": "code",
   "execution_count": 15,
   "id": "e273ef6e",
   "metadata": {},
   "outputs": [],
   "source": [
    "from tensorflow.keras.models import load_model"
   ]
  },
  {
   "cell_type": "code",
   "execution_count": 16,
   "id": "9dda8b16",
   "metadata": {},
   "outputs": [],
   "source": [
    "# Function to preprocess input dimensions\n",
    "def preprocess_input(dimensions):\n",
    "  # Convert dimensions to a numpy array and reshape it to match the input shape\n",
    "  # of the model\n",
    "  input_data=np.array(dimensions).reshape(1,-1)\n",
    "  return input_data"
   ]
  },
  {
   "cell_type": "code",
   "execution_count": 17,
   "id": "bc960163",
   "metadata": {},
   "outputs": [],
   "source": [
    "# Function to predict the output using the trained model\n",
    "def predict_output(model,input_data,label_encoder):\n",
    "   # Use the model to predict the output\n",
    "  predicted_class=np.argmax(model.predict(input_data),axis=-1)\n",
    "  # Convert the predicted class index back to the original letter\n",
    "  predicted_letter = label_encoder.inverse_transform(predicted_class)\n",
    "  return predicted_letter[0]"
   ]
  },
  {
   "cell_type": "code",
   "execution_count": 18,
   "id": "a7a48882",
   "metadata": {},
   "outputs": [],
   "source": [
    "# Load the trained model and label encoder\n",
    "model=load_model(\"letter_recognition_model.h5\")\n",
    "label_encoder = LabelEncoder()\n",
    "label_encoder.classes_ = np.load(\"label_encoder_classes.npy\",allow_pickle=True)"
   ]
  },
  {
   "cell_type": "code",
   "execution_count": 19,
   "id": "7033207a",
   "metadata": {},
   "outputs": [
    {
     "name": "stdout",
     "output_type": "stream",
     "text": [
      "Enter the dimensions separated by commas: 8,14,8,8,5,8,5,2,9,12,6,9,3,7,6,7\n"
     ]
    }
   ],
   "source": [
    "# Input dimensions dynamically from the user\n",
    "dimension_str = input(\"Enter the dimensions separated by commas: \")\n",
    "# Convert the input string to a list of integers\n",
    "dimensions = list(map(int, dimension_str.split(',')))"
   ]
  },
  {
   "cell_type": "code",
   "execution_count": 20,
   "id": "7946dd16",
   "metadata": {},
   "outputs": [],
   "source": [
    "# Preprocess the input dimensions\n",
    "input_data = preprocess_input(dimensions)"
   ]
  },
  {
   "cell_type": "code",
   "execution_count": 21,
   "id": "6c68e5b7",
   "metadata": {},
   "outputs": [
    {
     "name": "stdout",
     "output_type": "stream",
     "text": [
      "1/1 [==============================] - 2s 2s/step\n",
      "Predicted Letter:  Z\n"
     ]
    }
   ],
   "source": [
    "# Predict the output\n",
    "predicted_letter = predict_output(model, input_data,label_encoder)\n",
    "print(\"Predicted Letter: \",predicted_letter)"
   ]
  },
  {
   "cell_type": "code",
   "execution_count": null,
   "id": "c0d91a3a",
   "metadata": {},
   "outputs": [],
   "source": []
  }
 ],
 "metadata": {
  "kernelspec": {
   "display_name": "Python 3 (ipykernel)",
   "language": "python",
   "name": "python3"
  },
  "language_info": {
   "codemirror_mode": {
    "name": "ipython",
    "version": 3
   },
   "file_extension": ".py",
   "mimetype": "text/x-python",
   "name": "python",
   "nbconvert_exporter": "python",
   "pygments_lexer": "ipython3",
   "version": "3.11.4"
  }
 },
 "nbformat": 4,
 "nbformat_minor": 5
}

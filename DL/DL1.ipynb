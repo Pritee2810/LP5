{
 "cells": [
  {
   "cell_type": "code",
   "execution_count": 1,
   "id": "1b9e61e3",
   "metadata": {},
   "outputs": [
    {
     "name": "stdout",
     "output_type": "stream",
     "text": [
      "WARNING:tensorflow:From C:\\Users\\ThinkPad\\anaconda3\\Lib\\site-packages\\keras\\src\\losses.py:2976: The name tf.losses.sparse_softmax_cross_entropy is deprecated. Please use tf.compat.v1.losses.sparse_softmax_cross_entropy instead.\n",
      "\n"
     ]
    }
   ],
   "source": [
    "import numpy as np\n",
    "from tensorflow.keras.datasets import boston_housing\n",
    "from tensorflow.keras.models import Sequential\n",
    "from tensorflow.keras.layers import Dense, Dropout\n",
    "from tensorflow.keras.optimizers import Adam\n",
    "from tensorflow.keras.callbacks import EarlyStopping\n",
    "from sklearn.preprocessing import StandardScaler"
   ]
  },
  {
   "cell_type": "code",
   "execution_count": 2,
   "id": "65dbc4cd",
   "metadata": {},
   "outputs": [],
   "source": [
    "# Load the Boston Housing dataset\n",
    "(X_train, y_train), (X_test, y_test) = boston_housing.load_data()"
   ]
  },
  {
   "cell_type": "code",
   "execution_count": 3,
   "id": "3ed06ce8",
   "metadata": {},
   "outputs": [],
   "source": [
    "# Preprocess the data (standardization)\n",
    "scaler = StandardScaler()\n",
    "X_train_scaled = scaler.fit_transform(X_train)\n",
    "X_test_scaled = scaler.transform(X_test)"
   ]
  },
  {
   "cell_type": "code",
   "execution_count": 4,
   "id": "90fda93f",
   "metadata": {},
   "outputs": [
    {
     "name": "stdout",
     "output_type": "stream",
     "text": [
      "WARNING:tensorflow:From C:\\Users\\ThinkPad\\anaconda3\\Lib\\site-packages\\keras\\src\\backend.py:873: The name tf.get_default_graph is deprecated. Please use tf.compat.v1.get_default_graph instead.\n",
      "\n"
     ]
    }
   ],
   "source": [
    "# Build the deep neural network model\n",
    "model = Sequential([\n",
    "    Dense(128, activation='relu', input_shape=(X_train_scaled.shape[1],)),\n",
    "    Dropout(0.2),\n",
    "    Dense(64, activation='relu'),\n",
    "    Dropout(0.2),\n",
    "    Dense(1, activation='linear')\n",
    "])"
   ]
  },
  {
   "cell_type": "code",
   "execution_count": 5,
   "id": "71fc4194",
   "metadata": {},
   "outputs": [],
   "source": [
    "# Compile the model\n",
    "model.compile(optimizer=Adam(learning_rate=0.001), loss='mean_squared_error')"
   ]
  },
  {
   "cell_type": "code",
   "execution_count": 6,
   "id": "834e9f0c",
   "metadata": {},
   "outputs": [],
   "source": [
    "# Define early stopping\n",
    "early_stopping = EarlyStopping(monitor='val_loss', patience=10, restore_best_weights=True)"
   ]
  },
  {
   "cell_type": "code",
   "execution_count": 7,
   "id": "f4a48cd2",
   "metadata": {},
   "outputs": [
    {
     "name": "stdout",
     "output_type": "stream",
     "text": [
      "Epoch 1/100\n",
      "WARNING:tensorflow:From C:\\Users\\ThinkPad\\anaconda3\\Lib\\site-packages\\keras\\src\\utils\\tf_utils.py:492: The name tf.ragged.RaggedTensorValue is deprecated. Please use tf.compat.v1.ragged.RaggedTensorValue instead.\n",
      "\n",
      "11/11 [==============================] - 23s 405ms/step - loss: 541.4609 - val_loss: 575.2567\n",
      "Epoch 2/100\n",
      "11/11 [==============================] - 1s 81ms/step - loss: 477.0781 - val_loss: 502.2231\n",
      "Epoch 3/100\n",
      "11/11 [==============================] - 1s 74ms/step - loss: 403.9457 - val_loss: 405.9337\n",
      "Epoch 4/100\n",
      "11/11 [==============================] - 1s 99ms/step - loss: 304.0687 - val_loss: 289.9552\n",
      "Epoch 5/100\n",
      "11/11 [==============================] - 1s 91ms/step - loss: 194.6586 - val_loss: 174.8506\n",
      "Epoch 6/100\n",
      "11/11 [==============================] - 1s 77ms/step - loss: 116.3991 - val_loss: 102.1214\n",
      "Epoch 7/100\n",
      "11/11 [==============================] - 1s 77ms/step - loss: 76.6395 - val_loss: 74.5613\n",
      "Epoch 8/100\n",
      "11/11 [==============================] - 1s 84ms/step - loss: 61.2472 - val_loss: 57.6069\n",
      "Epoch 9/100\n",
      "11/11 [==============================] - 1s 85ms/step - loss: 52.4248 - val_loss: 46.1841\n",
      "Epoch 10/100\n",
      "11/11 [==============================] - 1s 137ms/step - loss: 40.5999 - val_loss: 38.1976\n",
      "Epoch 11/100\n",
      "11/11 [==============================] - 1s 124ms/step - loss: 35.1165 - val_loss: 31.7560\n",
      "Epoch 12/100\n",
      "11/11 [==============================] - 1s 107ms/step - loss: 32.7753 - val_loss: 28.0935\n",
      "Epoch 13/100\n",
      "11/11 [==============================] - 1s 85ms/step - loss: 30.0250 - val_loss: 26.0236\n",
      "Epoch 14/100\n",
      "11/11 [==============================] - 1s 89ms/step - loss: 28.9743 - val_loss: 24.8104\n",
      "Epoch 15/100\n",
      "11/11 [==============================] - 1s 93ms/step - loss: 27.3112 - val_loss: 24.2809\n",
      "Epoch 16/100\n",
      "11/11 [==============================] - 1s 134ms/step - loss: 26.5430 - val_loss: 23.1092\n",
      "Epoch 17/100\n",
      "11/11 [==============================] - 1s 109ms/step - loss: 24.7282 - val_loss: 22.2249\n",
      "Epoch 18/100\n",
      "11/11 [==============================] - 1s 86ms/step - loss: 26.3281 - val_loss: 21.5476\n",
      "Epoch 19/100\n",
      "11/11 [==============================] - 1s 87ms/step - loss: 24.2440 - val_loss: 20.8407\n",
      "Epoch 20/100\n",
      "11/11 [==============================] - 1s 110ms/step - loss: 25.5836 - val_loss: 19.8101\n",
      "Epoch 21/100\n",
      "11/11 [==============================] - 1s 86ms/step - loss: 21.5880 - val_loss: 19.1061\n",
      "Epoch 22/100\n",
      "11/11 [==============================] - 1s 121ms/step - loss: 25.3511 - val_loss: 18.6495\n",
      "Epoch 23/100\n",
      "11/11 [==============================] - 1s 78ms/step - loss: 22.9561 - val_loss: 18.2496\n",
      "Epoch 24/100\n",
      "11/11 [==============================] - 1s 102ms/step - loss: 22.4819 - val_loss: 18.1711\n",
      "Epoch 25/100\n",
      "11/11 [==============================] - 1s 80ms/step - loss: 23.4479 - val_loss: 17.7621\n",
      "Epoch 26/100\n",
      "11/11 [==============================] - 1s 86ms/step - loss: 20.6453 - val_loss: 16.8760\n",
      "Epoch 27/100\n",
      "11/11 [==============================] - 1s 105ms/step - loss: 23.3299 - val_loss: 16.6947\n",
      "Epoch 28/100\n",
      "11/11 [==============================] - 1s 124ms/step - loss: 19.6604 - val_loss: 16.5919\n",
      "Epoch 29/100\n",
      "11/11 [==============================] - 1s 101ms/step - loss: 20.3137 - val_loss: 16.7096\n",
      "Epoch 30/100\n",
      "11/11 [==============================] - 1s 109ms/step - loss: 19.5074 - val_loss: 17.1142\n",
      "Epoch 31/100\n",
      "11/11 [==============================] - 1s 106ms/step - loss: 20.7138 - val_loss: 16.6227\n",
      "Epoch 32/100\n",
      "11/11 [==============================] - 1s 109ms/step - loss: 19.0529 - val_loss: 16.2279\n",
      "Epoch 33/100\n",
      "11/11 [==============================] - 1s 105ms/step - loss: 18.9683 - val_loss: 15.8359\n",
      "Epoch 34/100\n",
      "11/11 [==============================] - 1s 84ms/step - loss: 18.2533 - val_loss: 15.5462\n",
      "Epoch 35/100\n",
      "11/11 [==============================] - 1s 87ms/step - loss: 22.6576 - val_loss: 15.7787\n",
      "Epoch 36/100\n",
      "11/11 [==============================] - 1s 87ms/step - loss: 19.2936 - val_loss: 15.6355\n",
      "Epoch 37/100\n",
      "11/11 [==============================] - 1s 88ms/step - loss: 19.9255 - val_loss: 17.1242\n",
      "Epoch 38/100\n",
      "11/11 [==============================] - 1s 81ms/step - loss: 18.2700 - val_loss: 15.8262\n",
      "Epoch 39/100\n",
      "11/11 [==============================] - 1s 97ms/step - loss: 18.1237 - val_loss: 16.9899\n",
      "Epoch 40/100\n",
      "11/11 [==============================] - 1s 101ms/step - loss: 22.1422 - val_loss: 15.5009\n",
      "Epoch 41/100\n",
      "11/11 [==============================] - 1s 71ms/step - loss: 16.4978 - val_loss: 14.9401\n",
      "Epoch 42/100\n",
      "11/11 [==============================] - 1s 83ms/step - loss: 18.6472 - val_loss: 14.5104\n",
      "Epoch 43/100\n",
      "11/11 [==============================] - 1s 98ms/step - loss: 15.8204 - val_loss: 14.3842\n",
      "Epoch 44/100\n",
      "11/11 [==============================] - 1s 101ms/step - loss: 18.1318 - val_loss: 14.4489\n",
      "Epoch 45/100\n",
      "11/11 [==============================] - 1s 101ms/step - loss: 17.1503 - val_loss: 14.5560\n",
      "Epoch 46/100\n",
      "11/11 [==============================] - 1s 85ms/step - loss: 14.4997 - val_loss: 14.3922\n",
      "Epoch 47/100\n",
      "11/11 [==============================] - 1s 87ms/step - loss: 17.8491 - val_loss: 14.1872\n",
      "Epoch 48/100\n",
      "11/11 [==============================] - 1s 90ms/step - loss: 18.0733 - val_loss: 14.7708\n",
      "Epoch 49/100\n",
      "11/11 [==============================] - 1s 77ms/step - loss: 17.9560 - val_loss: 14.4234\n",
      "Epoch 50/100\n",
      "11/11 [==============================] - 1s 49ms/step - loss: 19.4146 - val_loss: 14.1047\n",
      "Epoch 51/100\n",
      "11/11 [==============================] - 1s 71ms/step - loss: 18.0191 - val_loss: 13.9716\n",
      "Epoch 52/100\n",
      "11/11 [==============================] - 2s 158ms/step - loss: 15.9267 - val_loss: 14.1556\n",
      "Epoch 53/100\n",
      "11/11 [==============================] - 1s 79ms/step - loss: 15.5875 - val_loss: 13.9098\n",
      "Epoch 54/100\n",
      "11/11 [==============================] - 1s 74ms/step - loss: 14.1240 - val_loss: 13.9627\n",
      "Epoch 55/100\n",
      "11/11 [==============================] - 1s 84ms/step - loss: 14.9426 - val_loss: 13.9254\n",
      "Epoch 56/100\n",
      "11/11 [==============================] - 1s 70ms/step - loss: 14.8599 - val_loss: 13.8701\n",
      "Epoch 57/100\n",
      "11/11 [==============================] - 1s 108ms/step - loss: 15.3579 - val_loss: 14.1324\n",
      "Epoch 58/100\n",
      "11/11 [==============================] - 1s 83ms/step - loss: 16.6488 - val_loss: 13.8420\n",
      "Epoch 59/100\n",
      "11/11 [==============================] - 1s 91ms/step - loss: 17.2817 - val_loss: 13.7694\n",
      "Epoch 60/100\n",
      "11/11 [==============================] - 1s 77ms/step - loss: 16.3146 - val_loss: 14.5095\n",
      "Epoch 61/100\n",
      "11/11 [==============================] - 1s 87ms/step - loss: 14.9775 - val_loss: 14.4793\n",
      "Epoch 62/100\n",
      "11/11 [==============================] - 1s 71ms/step - loss: 14.8456 - val_loss: 14.1334\n",
      "Epoch 63/100\n",
      "11/11 [==============================] - 1s 107ms/step - loss: 16.8555 - val_loss: 14.0834\n",
      "Epoch 64/100\n",
      "11/11 [==============================] - 1s 68ms/step - loss: 16.4989 - val_loss: 13.9398\n",
      "Epoch 65/100\n",
      "11/11 [==============================] - 1s 60ms/step - loss: 17.6530 - val_loss: 13.8543\n",
      "Epoch 66/100\n",
      "11/11 [==============================] - 1s 73ms/step - loss: 16.6199 - val_loss: 13.4155\n",
      "Epoch 67/100\n",
      "11/11 [==============================] - 1s 69ms/step - loss: 17.2089 - val_loss: 13.4813\n",
      "Epoch 68/100\n",
      "11/11 [==============================] - 1s 71ms/step - loss: 16.2108 - val_loss: 13.6769\n",
      "Epoch 69/100\n",
      "11/11 [==============================] - 1s 75ms/step - loss: 17.4429 - val_loss: 13.8091\n",
      "Epoch 70/100\n",
      "11/11 [==============================] - 1s 121ms/step - loss: 15.1094 - val_loss: 14.0466\n",
      "Epoch 71/100\n",
      "11/11 [==============================] - 1s 90ms/step - loss: 14.5749 - val_loss: 14.3847\n",
      "Epoch 72/100\n",
      "11/11 [==============================] - 1s 76ms/step - loss: 13.4204 - val_loss: 14.7824\n",
      "Epoch 73/100\n",
      "11/11 [==============================] - 1s 73ms/step - loss: 15.2493 - val_loss: 15.0017\n",
      "Epoch 74/100\n",
      "11/11 [==============================] - 1s 61ms/step - loss: 17.0563 - val_loss: 15.0467\n",
      "Epoch 75/100\n",
      "11/11 [==============================] - 1s 61ms/step - loss: 14.4244 - val_loss: 14.6450\n",
      "Epoch 76/100\n",
      "11/11 [==============================] - 1s 83ms/step - loss: 15.5663 - val_loss: 14.2593\n"
     ]
    }
   ],
   "source": [
    "# Train the model\n",
    "history = model.fit(X_train_scaled, y_train, epochs=100, batch_size=32, verbose=1, validation_split=0.2, callbacks=[early_stopping])\n"
   ]
  },
  {
   "cell_type": "code",
   "execution_count": 8,
   "id": "979630c1",
   "metadata": {},
   "outputs": [
    {
     "name": "stdout",
     "output_type": "stream",
     "text": [
      "Mean Squared Error on Test Set: 24.5212345123291\n"
     ]
    }
   ],
   "source": [
    "# Evaluate the model\n",
    "mse = model.evaluate(X_test_scaled, y_test, verbose=0)\n",
    "print(\"Mean Squared Error on Test Set:\", mse)\n"
   ]
  },
  {
   "cell_type": "code",
   "execution_count": 9,
   "id": "247f279f",
   "metadata": {},
   "outputs": [
    {
     "name": "stdout",
     "output_type": "stream",
     "text": [
      "4/4 [==============================] - 3s 12ms/step\n"
     ]
    }
   ],
   "source": [
    "predictions = model.predict(X_test_scaled)"
   ]
  },
  {
   "cell_type": "code",
   "execution_count": 10,
   "id": "90322689",
   "metadata": {},
   "outputs": [
    {
     "name": "stdout",
     "output_type": "stream",
     "text": [
      "Predicted Price: 8.710379 \tTrue Price: 7.2\n",
      "Predicted Price: 17.62986 \tTrue Price: 18.8\n",
      "Predicted Price: 20.512697 \tTrue Price: 19.0\n",
      "Predicted Price: 30.304548 \tTrue Price: 27.0\n",
      "Predicted Price: 25.727251 \tTrue Price: 22.2\n",
      "Predicted Price: 17.188673 \tTrue Price: 24.5\n",
      "Predicted Price: 26.783688 \tTrue Price: 31.2\n",
      "Predicted Price: 21.939983 \tTrue Price: 22.9\n",
      "Predicted Price: 19.606161 \tTrue Price: 20.5\n",
      "Predicted Price: 21.898417 \tTrue Price: 23.2\n"
     ]
    }
   ],
   "source": [
    "# Print sample predictions\n",
    "for i in range(10):\n",
    "    print(\"Predicted Price:\", predictions[i][0], \"\\tTrue Price:\", y_test[i])"
   ]
  },
  {
   "cell_type": "code",
   "execution_count": 11,
   "id": "ef62f09e",
   "metadata": {
    "scrolled": true
   },
   "outputs": [
    {
     "name": "stdout",
     "output_type": "stream",
     "text": [
      "WARNING:tensorflow:From C:\\Users\\ThinkPad\\anaconda3\\Lib\\site-packages\\keras\\src\\optimizers\\__init__.py:309: The name tf.train.Optimizer is deprecated. Please use tf.compat.v1.train.Optimizer instead.\n",
      "\n",
      "Model: \"sequential_1\"\n",
      "_________________________________________________________________\n",
      " Layer (type)                Output Shape              Param #   \n",
      "=================================================================\n",
      " dense_1 (Dense)             (None, 128)               1792      \n",
      "                                                                 \n",
      " dense_2 (Dense)             (None, 64)                8256      \n",
      "                                                                 \n",
      " dense_output (Dense)        (None, 1)                 65        \n",
      "                                                                 \n",
      "=================================================================\n",
      "Total params: 10113 (39.50 KB)\n",
      "Trainable params: 10113 (39.50 KB)\n",
      "Non-trainable params: 0 (0.00 Byte)\n",
      "_________________________________________________________________\n"
     ]
    }
   ],
   "source": [
    "from tensorflow.keras.models import Sequential\n",
    "from tensorflow.keras.layers import Dense\n",
    "\n",
    "model = Sequential()\n",
    "\n",
    "model.add(Dense(128, input_shape=(13, ), activation='relu', name='dense_1'))\n",
    "model.add(Dense(64, activation='relu', name='dense_2'))\n",
    "model.add(Dense(1, activation='linear', name='dense_output'))\n",
    "\n",
    "model.compile(optimizer='adam', loss='mse', metrics=['mae'])\n",
    "model.summary()"
   ]
  },
  {
   "cell_type": "code",
   "execution_count": null,
   "id": "93224737",
   "metadata": {},
   "outputs": [],
   "source": []
  }
 ],
 "metadata": {
  "kernelspec": {
   "display_name": "Python 3 (ipykernel)",
   "language": "python",
   "name": "python3"
  },
  "language_info": {
   "codemirror_mode": {
    "name": "ipython",
    "version": 3
   },
   "file_extension": ".py",
   "mimetype": "text/x-python",
   "name": "python",
   "nbconvert_exporter": "python",
   "pygments_lexer": "ipython3",
   "version": "3.11.4"
  }
 },
 "nbformat": 4,
 "nbformat_minor": 5
}
